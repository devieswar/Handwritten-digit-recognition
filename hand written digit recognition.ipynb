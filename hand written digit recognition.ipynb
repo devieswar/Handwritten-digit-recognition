{
 "cells": [
  {
   "cell_type": "code",
   "execution_count": 2,
   "metadata": {},
   "outputs": [],
   "source": [
    "from numpy import *\n",
    "from pandas import *\n",
    "from matplotlib.pyplot import *\n",
    "from seaborn import *\n",
    "import string\n",
    "import warnings\n",
    "warnings.filterwarnings('ignore')"
   ]
  },
  {
   "cell_type": "code",
   "execution_count": 3,
   "metadata": {},
   "outputs": [
    {
     "name": "stdout",
     "output_type": "stream",
     "text": [
      "Number of Training Samples = 42000\n",
      "Training X Shape = (42000, 785)\n",
      "Test X Shape = (28000, 784)\n",
      "Test y Shape = 28000\n",
      "\n",
      "Index of Train Set:\n",
      " Index(['label', 'pixel0', 'pixel1', 'pixel2', 'pixel3', 'pixel4', 'pixel5',\n",
      "       'pixel6', 'pixel7', 'pixel8',\n",
      "       ...\n",
      "       'pixel774', 'pixel775', 'pixel776', 'pixel777', 'pixel778', 'pixel779',\n",
      "       'pixel780', 'pixel781', 'pixel782', 'pixel783'],\n",
      "      dtype='object', length=785)\n",
      "Index of Test Set:\n",
      " Index(['pixel0', 'pixel1', 'pixel2', 'pixel3', 'pixel4', 'pixel5', 'pixel6',\n",
      "       'pixel7', 'pixel8', 'pixel9',\n",
      "       ...\n",
      "       'pixel774', 'pixel775', 'pixel776', 'pixel777', 'pixel778', 'pixel779',\n",
      "       'pixel780', 'pixel781', 'pixel782', 'pixel783'],\n",
      "      dtype='object', length=784)\n"
     ]
    }
   ],
   "source": [
    "train = read_csv(\"train.csv\")\n",
    "test = read_csv(\"test.csv\")\n",
    "print('Number of Training Samples = {}'.format(train.shape[0]))\n",
    "#print('Number of Test Samples = {}\\n'.format(test.shape[0]))\n",
    "print('Training X Shape = {}'.format(train.shape))\n",
    "#print('Training y Shape = {}\\n'.format(train['label'].shape[0]))\n",
    "print('Test X Shape = {}'.format(test.shape))\n",
    "print('Test y Shape = {}\\n'.format(test.shape[0]))\n",
    "print('Index of Train Set:\\n', train.columns)\n",
    "print('Index of Test Set:\\n', test.columns)"
   ]
  },
  {
   "cell_type": "code",
   "execution_count": 4,
   "metadata": {},
   "outputs": [
    {
     "data": {
      "text/html": [
       "<div>\n",
       "<style scoped>\n",
       "    .dataframe tbody tr th:only-of-type {\n",
       "        vertical-align: middle;\n",
       "    }\n",
       "\n",
       "    .dataframe tbody tr th {\n",
       "        vertical-align: top;\n",
       "    }\n",
       "\n",
       "    .dataframe thead th {\n",
       "        text-align: right;\n",
       "    }\n",
       "</style>\n",
       "<table border=\"1\" class=\"dataframe\">\n",
       "  <thead>\n",
       "    <tr style=\"text-align: right;\">\n",
       "      <th></th>\n",
       "      <th>label</th>\n",
       "      <th>pixel0</th>\n",
       "      <th>pixel1</th>\n",
       "      <th>pixel2</th>\n",
       "      <th>pixel3</th>\n",
       "      <th>pixel4</th>\n",
       "      <th>pixel5</th>\n",
       "      <th>pixel6</th>\n",
       "      <th>pixel7</th>\n",
       "      <th>pixel8</th>\n",
       "      <th>...</th>\n",
       "      <th>pixel774</th>\n",
       "      <th>pixel775</th>\n",
       "      <th>pixel776</th>\n",
       "      <th>pixel777</th>\n",
       "      <th>pixel778</th>\n",
       "      <th>pixel779</th>\n",
       "      <th>pixel780</th>\n",
       "      <th>pixel781</th>\n",
       "      <th>pixel782</th>\n",
       "      <th>pixel783</th>\n",
       "    </tr>\n",
       "  </thead>\n",
       "  <tbody>\n",
       "    <tr>\n",
       "      <td>0</td>\n",
       "      <td>1</td>\n",
       "      <td>0</td>\n",
       "      <td>0</td>\n",
       "      <td>0</td>\n",
       "      <td>0</td>\n",
       "      <td>0</td>\n",
       "      <td>0</td>\n",
       "      <td>0</td>\n",
       "      <td>0</td>\n",
       "      <td>0</td>\n",
       "      <td>...</td>\n",
       "      <td>0</td>\n",
       "      <td>0</td>\n",
       "      <td>0</td>\n",
       "      <td>0</td>\n",
       "      <td>0</td>\n",
       "      <td>0</td>\n",
       "      <td>0</td>\n",
       "      <td>0</td>\n",
       "      <td>0</td>\n",
       "      <td>0</td>\n",
       "    </tr>\n",
       "    <tr>\n",
       "      <td>1</td>\n",
       "      <td>0</td>\n",
       "      <td>0</td>\n",
       "      <td>0</td>\n",
       "      <td>0</td>\n",
       "      <td>0</td>\n",
       "      <td>0</td>\n",
       "      <td>0</td>\n",
       "      <td>0</td>\n",
       "      <td>0</td>\n",
       "      <td>0</td>\n",
       "      <td>...</td>\n",
       "      <td>0</td>\n",
       "      <td>0</td>\n",
       "      <td>0</td>\n",
       "      <td>0</td>\n",
       "      <td>0</td>\n",
       "      <td>0</td>\n",
       "      <td>0</td>\n",
       "      <td>0</td>\n",
       "      <td>0</td>\n",
       "      <td>0</td>\n",
       "    </tr>\n",
       "    <tr>\n",
       "      <td>2</td>\n",
       "      <td>1</td>\n",
       "      <td>0</td>\n",
       "      <td>0</td>\n",
       "      <td>0</td>\n",
       "      <td>0</td>\n",
       "      <td>0</td>\n",
       "      <td>0</td>\n",
       "      <td>0</td>\n",
       "      <td>0</td>\n",
       "      <td>0</td>\n",
       "      <td>...</td>\n",
       "      <td>0</td>\n",
       "      <td>0</td>\n",
       "      <td>0</td>\n",
       "      <td>0</td>\n",
       "      <td>0</td>\n",
       "      <td>0</td>\n",
       "      <td>0</td>\n",
       "      <td>0</td>\n",
       "      <td>0</td>\n",
       "      <td>0</td>\n",
       "    </tr>\n",
       "    <tr>\n",
       "      <td>3</td>\n",
       "      <td>4</td>\n",
       "      <td>0</td>\n",
       "      <td>0</td>\n",
       "      <td>0</td>\n",
       "      <td>0</td>\n",
       "      <td>0</td>\n",
       "      <td>0</td>\n",
       "      <td>0</td>\n",
       "      <td>0</td>\n",
       "      <td>0</td>\n",
       "      <td>...</td>\n",
       "      <td>0</td>\n",
       "      <td>0</td>\n",
       "      <td>0</td>\n",
       "      <td>0</td>\n",
       "      <td>0</td>\n",
       "      <td>0</td>\n",
       "      <td>0</td>\n",
       "      <td>0</td>\n",
       "      <td>0</td>\n",
       "      <td>0</td>\n",
       "    </tr>\n",
       "    <tr>\n",
       "      <td>4</td>\n",
       "      <td>0</td>\n",
       "      <td>0</td>\n",
       "      <td>0</td>\n",
       "      <td>0</td>\n",
       "      <td>0</td>\n",
       "      <td>0</td>\n",
       "      <td>0</td>\n",
       "      <td>0</td>\n",
       "      <td>0</td>\n",
       "      <td>0</td>\n",
       "      <td>...</td>\n",
       "      <td>0</td>\n",
       "      <td>0</td>\n",
       "      <td>0</td>\n",
       "      <td>0</td>\n",
       "      <td>0</td>\n",
       "      <td>0</td>\n",
       "      <td>0</td>\n",
       "      <td>0</td>\n",
       "      <td>0</td>\n",
       "      <td>0</td>\n",
       "    </tr>\n",
       "  </tbody>\n",
       "</table>\n",
       "<p>5 rows × 785 columns</p>\n",
       "</div>"
      ],
      "text/plain": [
       "   label  pixel0  pixel1  pixel2  pixel3  pixel4  pixel5  pixel6  pixel7  \\\n",
       "0      1       0       0       0       0       0       0       0       0   \n",
       "1      0       0       0       0       0       0       0       0       0   \n",
       "2      1       0       0       0       0       0       0       0       0   \n",
       "3      4       0       0       0       0       0       0       0       0   \n",
       "4      0       0       0       0       0       0       0       0       0   \n",
       "\n",
       "   pixel8  ...  pixel774  pixel775  pixel776  pixel777  pixel778  pixel779  \\\n",
       "0       0  ...         0         0         0         0         0         0   \n",
       "1       0  ...         0         0         0         0         0         0   \n",
       "2       0  ...         0         0         0         0         0         0   \n",
       "3       0  ...         0         0         0         0         0         0   \n",
       "4       0  ...         0         0         0         0         0         0   \n",
       "\n",
       "   pixel780  pixel781  pixel782  pixel783  \n",
       "0         0         0         0         0  \n",
       "1         0         0         0         0  \n",
       "2         0         0         0         0  \n",
       "3         0         0         0         0  \n",
       "4         0         0         0         0  \n",
       "\n",
       "[5 rows x 785 columns]"
      ]
     },
     "execution_count": 4,
     "metadata": {},
     "output_type": "execute_result"
    }
   ],
   "source": [
    "train.head()"
   ]
  },
  {
   "cell_type": "code",
   "execution_count": 5,
   "metadata": {},
   "outputs": [
    {
     "name": "stdout",
     "output_type": "stream",
     "text": [
      "[1 0 4 7 3 5 8 9 2 6]\n"
     ]
    },
    {
     "data": {
      "image/png": "[encoded data removed]",
      "text/plain": [
       "<Figure size 432x288 with 1 Axes>"
      ]
     },
     "metadata": {
      "needs_background": "light"
     },
     "output_type": "display_data"
    }
   ],
   "source": [
    "cp=countplot(train['label']) #test for imbalance\n",
    "print(unique(train['label']))"
   ]
  },
  {
   "cell_type": "code",
   "execution_count": 6,
   "metadata": {},
   "outputs": [
    {
     "name": "stdout",
     "output_type": "stream",
     "text": [
      "False\n",
      "False\n"
     ]
    }
   ],
   "source": [
    "print(train.isnull().all().any())\n",
    "print(test.isnull().all().any())"
   ]
  },
  {
   "cell_type": "code",
   "execution_count": 7,
   "metadata": {},
   "outputs": [
    {
     "data": {
      "image/png": "[encoded data removed]",
      "text/plain": [
       "<Figure size 1296x576 with 24 Axes>"
      ]
     },
     "metadata": {
      "needs_background": "light"
     },
     "output_type": "display_data"
    }
   ],
   "source": [
    "import matplotlib.pyplot as plt\n",
    "def show_image(train_image, train_label, index):\n",
    "    image_shaped = train_image.values.reshape(28,28)\n",
    "    subplot(4, 6, index+1)\n",
    "    imshow(image_shaped, cmap=plt.cm.gray)\n",
    "    title(label)\n",
    "\n",
    "\n",
    "figure(figsize=(18, 8))\n",
    "sample_image = train.sample(24).reset_index(drop=True)\n",
    "#print(sample_image)\n",
    "for index, row in sample_image.iterrows():\n",
    "    label = row['label']\n",
    "    image_pixels = row.drop('label')\n",
    "    show_image(image_pixels, label, index)\n",
    "tight_layout()"
   ]
  },
  {
   "cell_type": "code",
   "execution_count": 8,
   "metadata": {},
   "outputs": [],
   "source": [
    "#pip install tensorflow"
   ]
  },
  {
   "cell_type": "code",
   "execution_count": 9,
   "metadata": {},
   "outputs": [],
   "source": [
    "from sklearn.model_selection import train_test_split\n",
    "from tensorflow.keras.utils import to_categorical\n",
    "\n",
    "X = train.drop(columns=['label']).values.reshape((train.shape[0],28,28,1))\n",
    "X_train = X.astype('float32') / 255\n",
    "y = to_categorical(train['label'])\n",
    "X_test = test.values.reshape((test.shape[0],28,28,1))\n",
    "X_test = X_test.astype('float32') / 255\n",
    "\n",
    "# prepare training and validation sets\n",
    "train_images, test_images, train_labels, test_labels = train_test_split(X, y,\n",
    "                                                test_size=0.1, random_state=0)\n",
    "train_images = train_images.astype('float32') / 255\n",
    "test_images = test_images.astype('float32') / 255"
   ]
  },
  {
   "cell_type": "code",
   "execution_count": 10,
   "metadata": {},
   "outputs": [],
   "source": [
    "import tensorflow.keras.models as models\n",
    "import tensorflow.keras.layers as layers\n",
    "model = models.Sequential()\n",
    "model.add(layers.Conv2D(32, (3, 3), activation='relu', input_shape=(28, 28, 1)))\n",
    "model.add(layers.MaxPooling2D((2, 2)))\n",
    "model.add(layers.Conv2D(64, (3, 3), activation='relu'))\n",
    "model.add(layers.MaxPooling2D((2, 2)))\n",
    "\n",
    "model.add(layers.Flatten())\n",
    "model.add(layers.Dense(32, activation='relu'))\n",
    "model.add(layers.Dense(10, activation='softmax'))"
   ]
  },
  {
   "cell_type": "code",
   "execution_count": 11,
   "metadata": {},
   "outputs": [
    {
     "name": "stdout",
     "output_type": "stream",
     "text": [
      "Model: \"sequential\"\n",
      "_________________________________________________________________\n",
      "Layer (type)                 Output Shape              Param #   \n",
      "=================================================================\n",
      "conv2d (Conv2D)              (None, 26, 26, 32)        320       \n",
      "_________________________________________________________________\n",
      "max_pooling2d (MaxPooling2D) (None, 13, 13, 32)        0         \n",
      "_________________________________________________________________\n",
      "conv2d_1 (Conv2D)            (None, 11, 11, 64)        18496     \n",
      "_________________________________________________________________\n",
      "max_pooling2d_1 (MaxPooling2 (None, 5, 5, 64)          0         \n",
      "_________________________________________________________________\n",
      "flatten (Flatten)            (None, 1600)              0         \n",
      "_________________________________________________________________\n",
      "dense (Dense)                (None, 32)                51232     \n",
      "_________________________________________________________________\n",
      "dense_1 (Dense)              (None, 10)                330       \n",
      "=================================================================\n",
      "Total params: 70,378\n",
      "Trainable params: 70,378\n",
      "Non-trainable params: 0\n",
      "_________________________________________________________________\n"
     ]
    }
   ],
   "source": [
    "model.summary()"
   ]
  },
  {
   "cell_type": "code",
   "execution_count": 12,
   "metadata": {},
   "outputs": [
    {
     "name": "stdout",
     "output_type": "stream",
     "text": [
      "Epoch 1/20\n",
      "591/591 [==============================] - ETA: 0s - loss: 0.2412 - acc: 0.9278\n",
      "Epoch 00001: val_loss improved from inf to 0.09659, saving model to model.h5\n",
      "591/591 [==============================] - 19s 32ms/step - loss: 0.2412 - acc: 0.9278 - val_loss: 0.0966 - val_acc: 0.9700\n",
      "Epoch 2/20\n",
      "591/591 [==============================] - ETA: 0s - loss: 0.0700 - acc: 0.9784\n",
      "Epoch 00002: val_loss improved from 0.09659 to 0.06980, saving model to model.h5\n",
      "591/591 [==============================] - 18s 30ms/step - loss: 0.0700 - acc: 0.9784 - val_loss: 0.0698 - val_acc: 0.9781\n",
      "Epoch 3/20\n",
      "590/591 [============================>.] - ETA: 0s - loss: 0.0470 - acc: 0.9856\n",
      "Epoch 00003: val_loss improved from 0.06980 to 0.04804, saving model to model.h5\n",
      "591/591 [==============================] - 18s 30ms/step - loss: 0.0470 - acc: 0.9857 - val_loss: 0.0480 - val_acc: 0.9857\n",
      "Epoch 4/20\n",
      "589/591 [============================>.] - ETA: 0s - loss: 0.0355 - acc: 0.9894\n",
      "Epoch 00004: val_loss did not improve from 0.04804\n",
      "591/591 [==============================] - 18s 30ms/step - loss: 0.0356 - acc: 0.9894 - val_loss: 0.0594 - val_acc: 0.9826\n",
      "Epoch 5/20\n",
      "590/591 [============================>.] - ETA: 0s - loss: 0.0290 - acc: 0.9908\n",
      "Epoch 00005: val_loss did not improve from 0.04804\n",
      "591/591 [==============================] - 16s 28ms/step - loss: 0.0290 - acc: 0.9908 - val_loss: 0.0649 - val_acc: 0.9829\n",
      "Epoch 6/20\n",
      "591/591 [==============================] - ETA: 0s - loss: 0.0227 - acc: 0.9934\n",
      "Epoch 00006: val_loss improved from 0.04804 to 0.04753, saving model to model.h5\n",
      "591/591 [==============================] - 17s 29ms/step - loss: 0.0227 - acc: 0.9934 - val_loss: 0.0475 - val_acc: 0.9862\n",
      "Epoch 7/20\n",
      "589/591 [============================>.] - ETA: 0s - loss: 0.0187 - acc: 0.9947\n",
      "Epoch 00007: val_loss improved from 0.04753 to 0.04260, saving model to model.h5\n",
      "591/591 [==============================] - 17s 28ms/step - loss: 0.0187 - acc: 0.9947 - val_loss: 0.0426 - val_acc: 0.9860\n",
      "Epoch 8/20\n",
      "589/591 [============================>.] - ETA: 0s - loss: 0.0159 - acc: 0.9952\n",
      "Epoch 00008: val_loss did not improve from 0.04260\n",
      "591/591 [==============================] - 17s 29ms/step - loss: 0.0159 - acc: 0.9952 - val_loss: 0.0644 - val_acc: 0.9850\n",
      "Epoch 9/20\n",
      "590/591 [============================>.] - ETA: 0s - loss: 0.0129 - acc: 0.9963\n",
      "Epoch 00009: val_loss did not improve from 0.04260\n",
      "591/591 [==============================] - 18s 31ms/step - loss: 0.0129 - acc: 0.9963 - val_loss: 0.0526 - val_acc: 0.9876\n",
      "Epoch 10/20\n",
      "589/591 [============================>.] - ETA: 0s - loss: 0.0107 - acc: 0.9968\n",
      "Epoch 00010: ReduceLROnPlateau reducing learning rate to 0.00010000000474974513.\n",
      "\n",
      "Epoch 00010: val_loss did not improve from 0.04260\n",
      "591/591 [==============================] - 17s 29ms/step - loss: 0.0107 - acc: 0.9967 - val_loss: 0.0601 - val_acc: 0.9855\n",
      "Epoch 11/20\n",
      "590/591 [============================>.] - ETA: 0s - loss: 0.0044 - acc: 0.9990\n",
      "Epoch 00011: val_loss did not improve from 0.04260\n",
      "591/591 [==============================] - 18s 31ms/step - loss: 0.0044 - acc: 0.9990 - val_loss: 0.0528 - val_acc: 0.9876\n",
      "Epoch 12/20\n",
      "589/591 [============================>.] - ETA: 0s - loss: 0.0032 - acc: 0.9993\n",
      "Epoch 00012: val_loss did not improve from 0.04260\n",
      "591/591 [==============================] - 17s 29ms/step - loss: 0.0032 - acc: 0.9993 - val_loss: 0.0546 - val_acc: 0.9883\n",
      "Epoch 13/20\n",
      "589/591 [============================>.] - ETA: 0s - loss: 0.0027 - acc: 0.9994\n",
      "Epoch 00013: ReduceLROnPlateau reducing learning rate to 1.0000000474974514e-05.\n",
      "\n",
      "Epoch 00013: val_loss did not improve from 0.04260\n",
      "591/591 [==============================] - 16s 28ms/step - loss: 0.0027 - acc: 0.9994 - val_loss: 0.0580 - val_acc: 0.9876\n",
      "Epoch 14/20\n",
      "590/591 [============================>.] - ETA: 0s - loss: 0.0024 - acc: 0.9995\n",
      "Epoch 00014: val_loss did not improve from 0.04260\n",
      "591/591 [==============================] - 18s 30ms/step - loss: 0.0024 - acc: 0.9995 - val_loss: 0.0578 - val_acc: 0.9876\n",
      "Epoch 15/20\n",
      "590/591 [============================>.] - ETA: 0s - loss: 0.0023 - acc: 0.9995\n",
      "Epoch 00015: val_loss did not improve from 0.04260\n",
      "591/591 [==============================] - 19s 33ms/step - loss: 0.0023 - acc: 0.9995 - val_loss: 0.0580 - val_acc: 0.9879\n",
      "Epoch 16/20\n",
      "590/591 [============================>.] - ETA: 0s - loss: 0.0023 - acc: 0.9995\n",
      "Epoch 00016: ReduceLROnPlateau reducing learning rate to 1e-05.\n",
      "\n",
      "Epoch 00016: val_loss did not improve from 0.04260\n",
      "591/591 [==============================] - 19s 32ms/step - loss: 0.0023 - acc: 0.9996 - val_loss: 0.0578 - val_acc: 0.9879\n",
      "Epoch 17/20\n",
      "589/591 [============================>.] - ETA: 0s - loss: 0.0023 - acc: 0.9995\n",
      "Epoch 00017: val_loss did not improve from 0.04260\n",
      "591/591 [==============================] - 18s 31ms/step - loss: 0.0023 - acc: 0.9996 - val_loss: 0.0580 - val_acc: 0.9881\n",
      "Epoch 00017: early stopping\n"
     ]
    }
   ],
   "source": [
    "from tensorflow.keras.callbacks import EarlyStopping, ModelCheckpoint, ReduceLROnPlateau\n",
    "\n",
    "callbacks = [\n",
    "    EarlyStopping(patience=10, verbose=1),\n",
    "    ReduceLROnPlateau(factor=0.1, patience=3, min_lr=0.00001, verbose=1),\n",
    "    ModelCheckpoint('model.h5', verbose=1, save_best_only=True, save_weights_only=True)\n",
    "]\n",
    "model.compile(optimizer='rmsprop',\n",
    "   loss='categorical_crossentropy',\n",
    "   metrics=['acc'])\n",
    "history = model.fit(train_images,\n",
    "   train_labels,\n",
    "   epochs=20,\n",
    "   batch_size=64,\n",
    "   callbacks=callbacks,\n",
    "   validation_data=(test_images, test_labels))"
   ]
  },
  {
   "cell_type": "code",
   "execution_count": 14,
   "metadata": {},
   "outputs": [],
   "source": [
    "predictions = model.predict(X_test)\n",
    "results = argmax(predictions, axis = 1) "
   ]
  },
  {
   "cell_type": "code",
   "execution_count": 15,
   "metadata": {},
   "outputs": [
    {
     "data": {
      "image/png": "[encoded data removed]",
      "text/plain": [
       "<Figure size 1296x576 with 24 Axes>"
      ]
     },
     "metadata": {
      "needs_background": "light"
     },
     "output_type": "display_data"
    }
   ],
   "source": [
    "plt.figure(figsize=(18, 8))\n",
    "sample_test = test.head(24)\n",
    "for index, image_pixels in sample_test.iterrows():\n",
    "    label = results[index]\n",
    "    show_image(image_pixels, label, index)\n",
    "plt.tight_layout()"
   ]
  },
  {
   "cell_type": "code",
   "execution_count": null,
   "metadata": {},
   "outputs": [],
   "source": []
  }
 ],
 "metadata": {
  "kernelspec": {
   "display_name": "Python 3",
   "language": "python",
   "name": "python3"
  },
  "language_info": {
   "codemirror_mode": {
    "name": "ipython",
    "version": 3
   },
   "file_extension": ".py",
   "mimetype": "text/x-python",
   "name": "python",
   "nbconvert_exporter": "python",
   "pygments_lexer": "ipython3",
   "version": "3.7.4"
  }
 },
 "nbformat": 4,
 "nbformat_minor": 2
}
